{
 "cells": [
  {
   "cell_type": "markdown",
   "id": "def313cc-6b97-4d47-87c6-e3815aafb095",
   "metadata": {},
   "source": [
    "### The implementation of mini project for Applied Machine Learning"
   ]
  },
  {
   "cell_type": "code",
   "execution_count": 11,
   "id": "fe6d1ea2-54d4-4a60-87ab-dd23df059cca",
   "metadata": {},
   "outputs": [],
   "source": [
    "# Import packages\n",
    "\n",
    "import os\n",
    "import numpy as np\n",
    "import pandas as pd\n",
    "import matplotlib.pyplot as plt"
   ]
  },
  {
   "cell_type": "code",
   "execution_count": 2,
   "id": "1817fb65-6e84-4253-8b8a-ece7a00e4746",
   "metadata": {},
   "outputs": [],
   "source": [
    "# Load the dataset\n",
    "\n",
    "data_path = os.path.join(os.getcwd(),'data','Spotify_Dataset_V5.csv')\n",
    "spotifybase = pd.read_csv(data_path,delimiter=';')"
   ]
  },
  {
   "cell_type": "code",
   "execution_count": 3,
   "id": "60686167-433d-40b5-ad38-d8ed8b276499",
   "metadata": {},
   "outputs": [
    {
     "data": {
      "text/html": [
       "<div>\n",
       "<style scoped>\n",
       "    .dataframe tbody tr th:only-of-type {\n",
       "        vertical-align: middle;\n",
       "    }\n",
       "\n",
       "    .dataframe tbody tr th {\n",
       "        vertical-align: top;\n",
       "    }\n",
       "\n",
       "    .dataframe thead th {\n",
       "        text-align: right;\n",
       "    }\n",
       "</style>\n",
       "<table border=\"1\" class=\"dataframe\">\n",
       "  <thead>\n",
       "    <tr style=\"text-align: right;\">\n",
       "      <th></th>\n",
       "      <th>Title</th>\n",
       "      <th>Date</th>\n",
       "      <th>Points (Total)</th>\n",
       "      <th>id</th>\n",
       "      <th>Danceability</th>\n",
       "      <th>Energy</th>\n",
       "      <th>Loudness</th>\n",
       "      <th>Speechiness</th>\n",
       "      <th>Acousticness</th>\n",
       "      <th>Instrumentalness</th>\n",
       "      <th>Valence</th>\n",
       "      <th>Artist (Ind.)</th>\n",
       "      <th>lang</th>\n",
       "      <th>Artist Popularity date-1</th>\n",
       "      <th>Song popularity date-1</th>\n",
       "    </tr>\n",
       "  </thead>\n",
       "  <tbody>\n",
       "    <tr>\n",
       "      <th>0</th>\n",
       "      <td>Ella Baila Sola</td>\n",
       "      <td>2023-05-28</td>\n",
       "      <td>200</td>\n",
       "      <td>3qQbCzHBycnDpGskqOWY0E</td>\n",
       "      <td>0.668</td>\n",
       "      <td>0.758</td>\n",
       "      <td>0.814223</td>\n",
       "      <td>0.033</td>\n",
       "      <td>0.483</td>\n",
       "      <td>0.000</td>\n",
       "      <td>0.834</td>\n",
       "      <td>Eslabon Armado</td>\n",
       "      <td>it</td>\n",
       "      <td>200.0</td>\n",
       "      <td>200.0</td>\n",
       "    </tr>\n",
       "    <tr>\n",
       "      <th>1</th>\n",
       "      <td>Ella Baila Sola</td>\n",
       "      <td>2023-05-28</td>\n",
       "      <td>200</td>\n",
       "      <td>3qQbCzHBycnDpGskqOWY0E</td>\n",
       "      <td>0.668</td>\n",
       "      <td>0.758</td>\n",
       "      <td>0.814223</td>\n",
       "      <td>0.033</td>\n",
       "      <td>0.483</td>\n",
       "      <td>0.000</td>\n",
       "      <td>0.834</td>\n",
       "      <td>Peso Pluma</td>\n",
       "      <td>it</td>\n",
       "      <td>200.0</td>\n",
       "      <td>200.0</td>\n",
       "    </tr>\n",
       "    <tr>\n",
       "      <th>2</th>\n",
       "      <td>La Bebe - Remix</td>\n",
       "      <td>2023-05-28</td>\n",
       "      <td>199</td>\n",
       "      <td>2UW7JaomAMuX9pZrjVpHAU</td>\n",
       "      <td>0.812</td>\n",
       "      <td>0.479</td>\n",
       "      <td>0.800272</td>\n",
       "      <td>0.333</td>\n",
       "      <td>0.213</td>\n",
       "      <td>0.000</td>\n",
       "      <td>0.559</td>\n",
       "      <td>Yng Lvcas</td>\n",
       "      <td>es</td>\n",
       "      <td>200.0</td>\n",
       "      <td>198.0</td>\n",
       "    </tr>\n",
       "    <tr>\n",
       "      <th>3</th>\n",
       "      <td>La Bebe - Remix</td>\n",
       "      <td>2023-05-28</td>\n",
       "      <td>199</td>\n",
       "      <td>2UW7JaomAMuX9pZrjVpHAU</td>\n",
       "      <td>0.812</td>\n",
       "      <td>0.479</td>\n",
       "      <td>0.800272</td>\n",
       "      <td>0.333</td>\n",
       "      <td>0.213</td>\n",
       "      <td>0.000</td>\n",
       "      <td>0.559</td>\n",
       "      <td>Peso Pluma</td>\n",
       "      <td>es</td>\n",
       "      <td>200.0</td>\n",
       "      <td>198.0</td>\n",
       "    </tr>\n",
       "    <tr>\n",
       "      <th>4</th>\n",
       "      <td>WHERE SHE GOES</td>\n",
       "      <td>2023-05-28</td>\n",
       "      <td>198</td>\n",
       "      <td>7ro0hRteUMfnOioTFI5TG1</td>\n",
       "      <td>0.652</td>\n",
       "      <td>0.800</td>\n",
       "      <td>0.846376</td>\n",
       "      <td>0.061</td>\n",
       "      <td>0.143</td>\n",
       "      <td>0.629</td>\n",
       "      <td>0.234</td>\n",
       "      <td>Bad Bunny</td>\n",
       "      <td>en</td>\n",
       "      <td>199.0</td>\n",
       "      <td>199.0</td>\n",
       "    </tr>\n",
       "    <tr>\n",
       "      <th>5</th>\n",
       "      <td>un x100to</td>\n",
       "      <td>2023-05-28</td>\n",
       "      <td>197</td>\n",
       "      <td>6pD0ufEQq0xdHSsRbg9LBK</td>\n",
       "      <td>0.569</td>\n",
       "      <td>0.724</td>\n",
       "      <td>0.844792</td>\n",
       "      <td>0.047</td>\n",
       "      <td>0.228</td>\n",
       "      <td>0.000</td>\n",
       "      <td>0.562</td>\n",
       "      <td>Grupo Frontera</td>\n",
       "      <td>fr</td>\n",
       "      <td>199.0</td>\n",
       "      <td>196.0</td>\n",
       "    </tr>\n",
       "    <tr>\n",
       "      <th>6</th>\n",
       "      <td>un x100to</td>\n",
       "      <td>2023-05-28</td>\n",
       "      <td>197</td>\n",
       "      <td>6pD0ufEQq0xdHSsRbg9LBK</td>\n",
       "      <td>0.569</td>\n",
       "      <td>0.724</td>\n",
       "      <td>0.844792</td>\n",
       "      <td>0.047</td>\n",
       "      <td>0.228</td>\n",
       "      <td>0.000</td>\n",
       "      <td>0.562</td>\n",
       "      <td>Bad Bunny</td>\n",
       "      <td>fr</td>\n",
       "      <td>199.0</td>\n",
       "      <td>196.0</td>\n",
       "    </tr>\n",
       "    <tr>\n",
       "      <th>7</th>\n",
       "      <td>Cupid - Twin Ver.</td>\n",
       "      <td>2023-05-28</td>\n",
       "      <td>196</td>\n",
       "      <td>7FbrGaHYVDmfr7KoLIZnQ7</td>\n",
       "      <td>0.783</td>\n",
       "      <td>0.592</td>\n",
       "      <td>0.726517</td>\n",
       "      <td>0.033</td>\n",
       "      <td>0.435</td>\n",
       "      <td>0.000</td>\n",
       "      <td>0.726</td>\n",
       "      <td>FIFTY FIFTY</td>\n",
       "      <td>de</td>\n",
       "      <td>197.0</td>\n",
       "      <td>197.0</td>\n",
       "    </tr>\n",
       "    <tr>\n",
       "      <th>8</th>\n",
       "      <td>Flowers</td>\n",
       "      <td>2023-05-28</td>\n",
       "      <td>195</td>\n",
       "      <td>4DHcnVTT87F0zZhRPYmZ3B</td>\n",
       "      <td>0.707</td>\n",
       "      <td>0.681</td>\n",
       "      <td>0.837872</td>\n",
       "      <td>0.067</td>\n",
       "      <td>0.063</td>\n",
       "      <td>0.000</td>\n",
       "      <td>0.646</td>\n",
       "      <td>Miley Cyrus</td>\n",
       "      <td>en</td>\n",
       "      <td>195.0</td>\n",
       "      <td>195.0</td>\n",
       "    </tr>\n",
       "    <tr>\n",
       "      <th>9</th>\n",
       "      <td>Kill Bill</td>\n",
       "      <td>2023-05-28</td>\n",
       "      <td>194</td>\n",
       "      <td>1Qrg8KqiBpW07V7PNxwwwL</td>\n",
       "      <td>0.644</td>\n",
       "      <td>0.735</td>\n",
       "      <td>0.798355</td>\n",
       "      <td>0.039</td>\n",
       "      <td>0.052</td>\n",
       "      <td>0.144</td>\n",
       "      <td>0.418</td>\n",
       "      <td>SZA</td>\n",
       "      <td>mt</td>\n",
       "      <td>193.0</td>\n",
       "      <td>193.0</td>\n",
       "    </tr>\n",
       "  </tbody>\n",
       "</table>\n",
       "</div>"
      ],
      "text/plain": [
       "               Title        Date  Points (Total)                      id  \\\n",
       "0    Ella Baila Sola  2023-05-28             200  3qQbCzHBycnDpGskqOWY0E   \n",
       "1    Ella Baila Sola  2023-05-28             200  3qQbCzHBycnDpGskqOWY0E   \n",
       "2    La Bebe - Remix  2023-05-28             199  2UW7JaomAMuX9pZrjVpHAU   \n",
       "3    La Bebe - Remix  2023-05-28             199  2UW7JaomAMuX9pZrjVpHAU   \n",
       "4     WHERE SHE GOES  2023-05-28             198  7ro0hRteUMfnOioTFI5TG1   \n",
       "5          un x100to  2023-05-28             197  6pD0ufEQq0xdHSsRbg9LBK   \n",
       "6          un x100to  2023-05-28             197  6pD0ufEQq0xdHSsRbg9LBK   \n",
       "7  Cupid - Twin Ver.  2023-05-28             196  7FbrGaHYVDmfr7KoLIZnQ7   \n",
       "8            Flowers  2023-05-28             195  4DHcnVTT87F0zZhRPYmZ3B   \n",
       "9          Kill Bill  2023-05-28             194  1Qrg8KqiBpW07V7PNxwwwL   \n",
       "\n",
       "   Danceability  Energy  Loudness  Speechiness  Acousticness  \\\n",
       "0         0.668   0.758  0.814223        0.033         0.483   \n",
       "1         0.668   0.758  0.814223        0.033         0.483   \n",
       "2         0.812   0.479  0.800272        0.333         0.213   \n",
       "3         0.812   0.479  0.800272        0.333         0.213   \n",
       "4         0.652   0.800  0.846376        0.061         0.143   \n",
       "5         0.569   0.724  0.844792        0.047         0.228   \n",
       "6         0.569   0.724  0.844792        0.047         0.228   \n",
       "7         0.783   0.592  0.726517        0.033         0.435   \n",
       "8         0.707   0.681  0.837872        0.067         0.063   \n",
       "9         0.644   0.735  0.798355        0.039         0.052   \n",
       "\n",
       "   Instrumentalness  Valence   Artist (Ind.) lang  Artist Popularity date-1  \\\n",
       "0             0.000    0.834  Eslabon Armado   it                     200.0   \n",
       "1             0.000    0.834      Peso Pluma   it                     200.0   \n",
       "2             0.000    0.559       Yng Lvcas   es                     200.0   \n",
       "3             0.000    0.559      Peso Pluma   es                     200.0   \n",
       "4             0.629    0.234       Bad Bunny   en                     199.0   \n",
       "5             0.000    0.562  Grupo Frontera   fr                     199.0   \n",
       "6             0.000    0.562       Bad Bunny   fr                     199.0   \n",
       "7             0.000    0.726     FIFTY FIFTY   de                     197.0   \n",
       "8             0.000    0.646     Miley Cyrus   en                     195.0   \n",
       "9             0.144    0.418             SZA   mt                     193.0   \n",
       "\n",
       "   Song popularity date-1  \n",
       "0                   200.0  \n",
       "1                   200.0  \n",
       "2                   198.0  \n",
       "3                   198.0  \n",
       "4                   199.0  \n",
       "5                   196.0  \n",
       "6                   196.0  \n",
       "7                   197.0  \n",
       "8                   195.0  \n",
       "9                   193.0  "
      ]
     },
     "execution_count": 3,
     "metadata": {},
     "output_type": "execute_result"
    }
   ],
   "source": [
    "# Quick Look of the data\n",
    "spotifybase.head(10)"
   ]
  },
  {
   "cell_type": "code",
   "execution_count": 4,
   "id": "b8050e04-7d53-4d49-b1b3-fcffa0074481",
   "metadata": {},
   "outputs": [
    {
     "name": "stdout",
     "output_type": "stream",
     "text": [
      "        en  es  de  it  fr  pt  hu  pl  fi  cs\n",
      "0        0   0   0   1   0   0   0   0   0   0\n",
      "1        0   0   0   1   0   0   0   0   0   0\n",
      "2        0   1   0   0   0   0   0   0   0   0\n",
      "3        0   1   0   0   0   0   0   0   0   0\n",
      "4        1   0   0   0   0   0   0   0   0   0\n",
      "...     ..  ..  ..  ..  ..  ..  ..  ..  ..  ..\n",
      "648477   1   0   0   0   0   0   0   0   0   0\n",
      "648478   0   0   1   0   0   0   0   0   0   0\n",
      "648479   1   0   0   0   0   0   0   0   0   0\n",
      "648480   1   0   0   0   0   0   0   0   0   0\n",
      "648481   1   0   0   0   0   0   0   0   0   0\n",
      "\n",
      "[648482 rows x 10 columns]\n"
     ]
    }
   ],
   "source": [
    "top20_lang = spotifybase[\"lang\"].value_counts().iloc[:10].index.to_list()\n",
    "dummies = pd.get_dummies(spotifybase[\"lang\"])\n",
    "dummies = dummies[top20_lang]\n",
    "print(dummies)\n",
    "spotifybase = pd.concat([spotifybase, dummies], axis=1)"
   ]
  },
  {
   "cell_type": "markdown",
   "id": "e47472d6-ce26-4b24-9d0d-c81558a4fde7",
   "metadata": {},
   "source": [
    "### Question: Which feature is more relevant or important to the popularity of the song?"
   ]
  },
  {
   "cell_type": "markdown",
   "id": "e1873052-c35c-47a6-bd8a-cbf2dd01610b",
   "metadata": {},
   "source": [
    "#### Read the data"
   ]
  },
  {
   "cell_type": "code",
   "execution_count": 5,
   "id": "011a478f-4875-4be1-82a0-6a04b36df55e",
   "metadata": {},
   "outputs": [],
   "source": [
    "data = spotifybase"
   ]
  },
  {
   "cell_type": "markdown",
   "id": "229360ae-a19f-466d-b63c-8a0827412b62",
   "metadata": {},
   "source": [
    "### Feature Selection\n",
    "To identify which attribute is more relevant to the rank of the song, in this task we chose`Danceability`,`Energy`,`Loudness`,`Speechness`,`Acousticness`,`Instrumentalness`,`Valence`,`Artist Poularity data-1`as features, We chose `Points(Total)` as label.\n",
    "\n",
    "However, We have found that FEATURE `Loudness` is from -2000 to -12000, and LABEL `Points(Total)` is from 0-200, so we should apply a scaling method to ensure that all features are on a  similar scale. This helps the model converge faster and make it more robust. METHOD `Min-Max scaling` can be used for features.\n",
    "\n",
    "### Data Preprocessing"
   ]
  },
  {
   "cell_type": "code",
   "execution_count": 6,
   "id": "a52ce866-ae98-4d68-9195-adea076ca8db",
   "metadata": {},
   "outputs": [],
   "source": [
    "from sklearn.preprocessing import MinMaxScaler\n",
    "# Initialize the Min-Max scaler\n",
    "scaler = MinMaxScaler()\n",
    "\n",
    "# Define the features and labels\n",
    "features = ['Danceability', 'Energy','Loudness', 'Speechiness', 'Acousticness', 'Instrumentalness', 'Valence','Artist Popularity date-1','en','es','de','it','fr','pt','hu','pl','fi','cs']\n",
    "label = 'Points (Total)'"
   ]
  },
  {
   "cell_type": "code",
   "execution_count": 7,
   "id": "8e1be06e-f3d7-4ee2-be6a-ee46b2ce6053",
   "metadata": {},
   "outputs": [],
   "source": [
    "# Scale the features\n",
    "data[features] = scaler.fit_transform(data[features])\n",
    "\n",
    "# Scale the label\n",
    "data[label] = scaler.fit_transform(data[[label]])"
   ]
  },
  {
   "cell_type": "markdown",
   "id": "b599dee9-bfa9-47a0-8051-55e8657de0f4",
   "metadata": {},
   "source": [
    "### Split the data"
   ]
  },
  {
   "cell_type": "code",
   "execution_count": 8,
   "id": "72567914-377d-4b17-aeb5-d318469a93ee",
   "metadata": {},
   "outputs": [],
   "source": [
    "from sklearn.model_selection import train_test_split"
   ]
  },
  {
   "cell_type": "code",
   "execution_count": 9,
   "id": "5abd0b22-a41b-4cfe-8930-86dcf94b1dde",
   "metadata": {},
   "outputs": [],
   "source": [
    "X = data[features]\n",
    "y = data[label]\n",
    "X_train, X_test, y_train, y_test = train_test_split(X, y, test_size=0.2, random_state=42)"
   ]
  },
  {
   "cell_type": "markdown",
   "id": "b8caf873",
   "metadata": {},
   "source": [
    "### PCA analysis"
   ]
  },
  {
   "cell_type": "code",
   "execution_count": 13,
   "id": "47d059ac",
   "metadata": {},
   "outputs": [
    {
     "name": "stdout",
     "output_type": "stream",
     "text": [
      "12\n"
     ]
    },
    {
     "data": {
      "text/plain": [
       "Text(0.5, 1.0, 'PCA explained variance with different number of components')"
      ]
     },
     "execution_count": 13,
     "metadata": {},
     "output_type": "execute_result"
    },
    {
     "data": {
      "image/png": "[encoded data removed]",
      "text/plain": [
       "<Figure size 640x480 with 1 Axes>"
      ]
     },
     "metadata": {},
     "output_type": "display_data"
    }
   ],
   "source": [
    "from sklearn.decomposition import PCA\n",
    "threshold = 0.95\n",
    "pca = PCA(n_components=18)\n",
    "pca.fit(X_train)\n",
    "X_pca_train = pca.transform(X_train)\n",
    "X_pca_test = pca.transform(X_test)\n",
    "pca_ratio = pca.explained_variance_ratio_\n",
    "x = np.arange(len(pca_ratio))\n",
    "sums = 0\n",
    "for i in x:\n",
    "    sums += pca_ratio[i]\n",
    "    if sums > threshold:\n",
    "        print(i)\n",
    "        break\n",
    "\n",
    "# Plot the figure of explained variance for PCA\n",
    "pca_hist = np.cumsum(pca_ratio)\n",
    "plt.plot(x, pca_hist, color='r', marker='*')\n",
    "plt.xticks(x)\n",
    "plt.xlabel('N components')\n",
    "plt.ylabel('Cumutative explained variance')\n",
    "plt.title('PCA explained variance with different number of components')"
   ]
  },
  {
   "cell_type": "markdown",
   "id": "53f5e690-4702-44d7-ad4c-e620243cde55",
   "metadata": {},
   "source": [
    "### Create the model\n",
    "In this case, we used different machine learning algorithms to figure out the question."
   ]
  },
  {
   "cell_type": "code",
   "execution_count": 14,
   "id": "d07c88a6",
   "metadata": {},
   "outputs": [],
   "source": [
    "if_pca = False\n",
    "n_components = 3\n",
    "if if_pca:\n",
    "    pca = PCA(n_components=n_components)\n",
    "    pca.fit(X_train)\n",
    "    X_train = pca.transform(X_train)\n",
    "    X_test = pca.transform(X_test)\n",
    "else:\n",
    "    X_train = X_train\n",
    "    X_test = X_test"
   ]
  },
  {
   "cell_type": "markdown",
   "id": "f91cc405-5826-455d-a41e-9ae56db368ad",
   "metadata": {},
   "source": [
    "#### Linear Regression"
   ]
  },
  {
   "cell_type": "code",
   "execution_count": 15,
   "id": "5f1e406f-72c4-4c4f-89f8-cb9fd8fbbb03",
   "metadata": {},
   "outputs": [],
   "source": [
    "from sklearn.linear_model import LinearRegression\n",
    "from sklearn.metrics import mean_squared_error\n",
    "from sklearn.metrics import mean_absolute_error\n",
    "from sklearn.metrics import r2_score"
   ]
  },
  {
   "cell_type": "code",
   "execution_count": 16,
   "id": "d9fdc1a9-ecb7-4bf5-b2fa-048cb30ebe9b",
   "metadata": {},
   "outputs": [
    {
     "name": "stdout",
     "output_type": "stream",
     "text": [
      "Execution time: 2.173840045928955\n"
     ]
    }
   ],
   "source": [
    "import time\n",
    "# Create and train a linear regression model\n",
    "start_time = time.time()\n",
    "model = LinearRegression()\n",
    "model.fit(X_train, y_train)\n",
    "end_time = time.time()\n",
    "\n",
    "execution_time = end_time - start_time\n",
    "print(\"Execution time:\", execution_time)"
   ]
  },
  {
   "cell_type": "code",
   "execution_count": 17,
   "id": "5751d1f0-02f4-48dc-9312-4f15978e3b08",
   "metadata": {},
   "outputs": [],
   "source": [
    "# Make predictions on the test set\n",
    "y_pred = model.predict(X_test)"
   ]
  },
  {
   "cell_type": "code",
   "execution_count": 18,
   "id": "14c881d9-7b30-46d6-8cea-56a34c1bf179",
   "metadata": {},
   "outputs": [
    {
     "name": "stdout",
     "output_type": "stream",
     "text": [
      "Mean Squared Error: 0.05705950471934955\n",
      "R-squared (R^2) Score: 0.3157646619929648\n"
     ]
    }
   ],
   "source": [
    "# Evaluate the model using mean squared error\n",
    "mse = mean_squared_error(y_test, y_pred)\n",
    "print(f\"Mean Squared Error: {mse}\")\n",
    "r2 = r2_score(y_test, y_pred)\n",
    "print(f\"R-squared (R^2) Score: {r2}\")"
   ]
  },
  {
   "cell_type": "code",
   "execution_count": 19,
   "id": "6a03d7b1-ccf7-4364-ab36-f5655d3094b3",
   "metadata": {},
   "outputs": [
    {
     "name": "stdout",
     "output_type": "stream",
     "text": [
      "Feature Importance:\n",
      "Danceability: -0.012406744377575489\n",
      "Energy: -0.024576322632950454\n",
      "Loudness: -0.02721106574791739\n",
      "Speechiness: -0.10192718804168956\n",
      "Acousticness: -0.01797938070448928\n",
      "Instrumentalness: 0.008462846498324374\n",
      "Valence: 0.05688924849095247\n",
      "Artist Popularity date-1: 0.5712388877325968\n",
      "en: 0.026777648838105492\n",
      "es: -0.01623072870958483\n",
      "de: 0.0354608042608766\n",
      "it: 0.048264240765577594\n",
      "fr: 0.01802070565480326\n",
      "pt: 0.03565483450700646\n",
      "hu: 0.003053953694369881\n",
      "pl: -0.023865883473308543\n",
      "fi: 0.03633392253537751\n",
      "cs: 0.015152142534587866\n"
     ]
    }
   ],
   "source": [
    "# Feature Importance\n",
    "feature_importance = model.coef_\n",
    "print(\"Feature Importance:\")\n",
    "for feature, importance in zip(X.columns, feature_importance):\n",
    "    print(f\"{feature}: {importance}\")"
   ]
  },
  {
   "cell_type": "markdown",
   "id": "d38b83c0-5031-4806-84bb-6e2851009072",
   "metadata": {},
   "source": [
    "#### Hyper-parameter tuning for Random Forest"
   ]
  },
  {
   "cell_type": "code",
   "execution_count": 20,
   "id": "c4e6f9b5-8fa6-47b7-8046-912721fc3064",
   "metadata": {},
   "outputs": [],
   "source": [
    "# form training set randomly choose 10000 samples for hyper-parameter tuning\n",
    "X_train_sample = X_train.sample(n=10000,random_state=0)\n",
    "y_train_sample = y_train[X_train_sample.index]"
   ]
  },
  {
   "cell_type": "code",
   "execution_count": 21,
   "id": "eb1d2abb-2627-43d1-8247-26e14556b496",
   "metadata": {},
   "outputs": [],
   "source": [
    "from sklearn.ensemble import RandomForestRegressor\n",
    "from sklearn.model_selection import GridSearchCV"
   ]
  },
  {
   "cell_type": "code",
   "execution_count": 20,
   "id": "b18f19f6-b2d5-44b0-bbae-2105ae33d895",
   "metadata": {},
   "outputs": [],
   "source": [
    "param_grid = {\n",
    "    'n_estimators': [100, 200, 500],\n",
    "    'max_depth': [5, 10, 20],\n",
    "    'min_samples_split': [2, 5, 10],\n",
    "    'min_samples_leaf': [1, 2, 4]\n",
    "}"
   ]
  },
  {
   "cell_type": "code",
   "execution_count": 22,
   "id": "5f1c19ed-3d96-4d51-9f37-efc00c087340",
   "metadata": {},
   "outputs": [
    {
     "name": "stdout",
     "output_type": "stream",
     "text": [
      "Best Parameters: {'max_depth': 20, 'min_samples_leaf': 1, 'min_samples_split': 2, 'n_estimators': 500}\n",
      "Best Score: 0.5140263755962815\n"
     ]
    }
   ],
   "source": [
    "rf = RandomForestRegressor()\n",
    "\n",
    "grid_search = GridSearchCV(estimator=rf, param_grid=param_grid, cv=5, scoring='r2', n_jobs=-1)\n",
    "\n",
    "grid_search.fit(X_train_sample, y_train_sample)\n",
    "\n",
    "# output the best parameter\n",
    "print(\"Best Parameters:\", grid_search.best_params_)\n",
    "print(\"Best Score:\", grid_search.best_score_)"
   ]
  },
  {
   "cell_type": "code",
   "execution_count": 25,
   "id": "34c629aa-8a15-4bbb-9cb9-182435b4f622",
   "metadata": {},
   "outputs": [
    {
     "name": "stdout",
     "output_type": "stream",
     "text": [
      "Execution time: 912.7119822502136\n"
     ]
    }
   ],
   "source": [
    "import time\n",
    "\n",
    "start_time = time.time()\n",
    "model = RandomForestRegressor(n_estimators=500,max_depth=20, min_samples_leaf=1, min_samples_split=2)\n",
    "model.fit(X_train, y_train)\n",
    "end_time = time.time()\n",
    "\n",
    "execution_time = end_time - start_time\n",
    "\n",
    "print(\"Execution time:\", execution_time)"
   ]
  },
  {
   "cell_type": "code",
   "execution_count": 26,
   "id": "8784fe6b-e028-4c14-b6a3-4e3f6adc7d2d",
   "metadata": {},
   "outputs": [],
   "source": [
    "# Make predictions on the test set\n",
    "y_pred = model.predict(X_test)"
   ]
  },
  {
   "cell_type": "code",
   "execution_count": 27,
   "id": "e59a8560-37fb-427a-89aa-d70353db80d5",
   "metadata": {},
   "outputs": [
    {
     "name": "stdout",
     "output_type": "stream",
     "text": [
      "Mean Squared Error on Original Scale: 0.021450583114382013\n",
      "R-squared (R^2) Score: 0.7427729690275431\n"
     ]
    }
   ],
   "source": [
    "# Evaluate the model using mean squared error on the original scale\n",
    "mse = mean_squared_error(y_test, y_pred)\n",
    "print(f\"Mean Squared Error on Original Scale: {mse}\")\n",
    "\n",
    "r2 = r2_score(y_test, y_pred)\n",
    "print(f\"R-squared (R^2) Score: {r2}\")"
   ]
  },
  {
   "cell_type": "code",
   "execution_count": 28,
   "id": "de56b6b2-edb4-453b-a553-62f336baf9a9",
   "metadata": {},
   "outputs": [
    {
     "name": "stdout",
     "output_type": "stream",
     "text": [
      "Feature Importance:\n",
      "Danceability: 0.07229528151229501\n",
      "Energy: 0.07814784319657266\n",
      "Loudness: 0.08100349403025194\n",
      "Speechiness: 0.07526878912668973\n",
      "Acousticness: 0.07672097605126\n",
      "Instrumentalness: 0.012183398595358412\n",
      "Valence: 0.07775531678063283\n",
      "Artist Popularity date-1: 0.5004454318804596\n",
      "en: 0.006804936663584053\n",
      "es: 0.005369545254128054\n",
      "de: 0.0028804994171483024\n",
      "it: 0.003953690752549444\n",
      "fr: 0.0017740108104527645\n",
      "pt: 0.0014776618189384924\n",
      "hu: 0.0011089388794356004\n",
      "pl: 0.0012443393969986973\n",
      "fi: 0.0005711104259672441\n",
      "cs: 0.000994735407277224\n"
     ]
    }
   ],
   "source": [
    "# Feature Importance\n",
    "feature_importance = model.feature_importances_\n",
    "print(\"Feature Importance:\")\n",
    "for feature, importance in zip(X.columns, feature_importance):\n",
    "    print(f\"{feature}: {importance}\")"
   ]
  },
  {
   "cell_type": "code",
   "execution_count": 29,
   "id": "d75b2bbe-b46e-4f6d-ac3d-7ec43bfc1c73",
   "metadata": {},
   "outputs": [
    {
     "data": {
      "image/png": "[encoded data removed]",
      "text/plain": [
       "<Figure size 720x432 with 1 Axes>"
      ]
     },
     "metadata": {
      "needs_background": "light"
     },
     "output_type": "display_data"
    }
   ],
   "source": [
    "import matplotlib.pyplot as plt\n",
    "\n",
    "# Feature names (assuming they are in the same order as your importances)\n",
    "feature_names = ['Danceability','Energy','Loudness', 'Speechiness', 'Acousticness', 'Instrumentalness', 'Valence','Artist Popularity date-1','en','es','de','it','fr','pt','hu','pl','fi','cs']\n",
    "\n",
    "# Importances\n",
    "for i in range(len(feature_importance)):\n",
    "    importances = feature_importance\n",
    "    i += 1\n",
    "    \n",
    "# Create a bar plot\n",
    "plt.figure(figsize=(10, 6))\n",
    "plt.barh(feature_names, importances, color='skyblue')\n",
    "plt.xlabel('Feature Importance')\n",
    "plt.title('Feature Importances')\n",
    "plt.gca().invert_yaxis()  # Invert the y-axis to show the most important feature at the top\n",
    "plt.show()"
   ]
  },
  {
   "cell_type": "markdown",
   "id": "a7638a87",
   "metadata": {},
   "source": [
    "#### Hyper-parameter tuning for XGBoost"
   ]
  },
  {
   "cell_type": "code",
   "execution_count": 33,
   "id": "6f4a96d1-4c33-44e0-b131-cdf2ed80e1f2",
   "metadata": {},
   "outputs": [],
   "source": [
    "from xgboost import XGBRegressor"
   ]
  },
  {
   "cell_type": "code",
   "execution_count": 34,
   "id": "2b59d8f0-57d8-453f-89d2-849ec3dda03d",
   "metadata": {},
   "outputs": [],
   "source": [
    "param_grid = {\n",
    "    'eta': [0.001, 0.01, 0.1],\n",
    "    'gamma': [0.001, 0.01, 0.1],\n",
    "    'max_depth': [2, 5, 8],\n",
    "    'min_child_weight': [1, 3, 5],\n",
    "    'n_estimators': [100, 200, 300]\n",
    "}"
   ]
  },
  {
   "cell_type": "code",
   "execution_count": 35,
   "id": "f7281239-e819-4f53-b918-bab6b22d7bae",
   "metadata": {},
   "outputs": [
    {
     "name": "stdout",
     "output_type": "stream",
     "text": [
      "Best Parameters: {'eta': 0.1, 'gamma': 0.001, 'max_depth': 8, 'min_child_weight': 1, 'n_estimators': 300}\n",
      "Best Score: 0.5133578864888395\n"
     ]
    }
   ],
   "source": [
    "xgb = XGBRegressor()\n",
    "grid_search = GridSearchCV(estimator=xgb, param_grid=param_grid, cv=5, scoring='r2', n_jobs=-1)\n",
    "grid_search.fit(X_train_sample, y_train_sample)\n",
    "\n",
    "# output the best parameter\n",
    "print(\"Best Parameters:\", grid_search.best_params_)\n",
    "print(\"Best Score:\", grid_search.best_score_)"
   ]
  },
  {
   "cell_type": "code",
   "execution_count": 36,
   "id": "b44fa85e",
   "metadata": {},
   "outputs": [],
   "source": [
    "import xgboost as xgb\n",
    "dtrain = xgb.DMatrix(X_train, label=y_train)\n",
    "dtest = xgb.DMatrix(X_test, label=y_test)"
   ]
  },
  {
   "cell_type": "code",
   "execution_count": 37,
   "id": "102facac",
   "metadata": {},
   "outputs": [],
   "source": [
    "# Set Parameters\n",
    "params = {\n",
    "    'objective': 'reg:squarederror',  # for regression problems\n",
    "    'eta': 0.1,\n",
    "    'gamma': 0.001,\n",
    "    'max_depth': 8,\n",
    "    'min_child_weight': 1,\n",
    "    'n_estimators': 300,\n",
    "    'eval_metric': ['rmse', 'mae']\n",
    "}"
   ]
  },
  {
   "cell_type": "code",
   "execution_count": 38,
   "id": "cdd5ab1f",
   "metadata": {},
   "outputs": [
    {
     "name": "stderr",
     "output_type": "stream",
     "text": [
      "C:\\Users\\13540\\anaconda3\\lib\\site-packages\\xgboost\\core.py:160: UserWarning: [22:57:55] WARNING: C:\\buildkite-agent\\builds\\buildkite-windows-cpu-autoscaling-group-i-0750514818a16474a-1\\xgboost\\xgboost-ci-windows\\src\\learner.cc:742: \n",
      "Parameters: { \"n_estimators\" } are not used.\n",
      "\n",
      "  warnings.warn(smsg, UserWarning)\n"
     ]
    },
    {
     "name": "stdout",
     "output_type": "stream",
     "text": [
      "[0]\teval-rmse:0.27860\teval-mae:0.24088\n",
      "[1]\teval-rmse:0.27004\teval-mae:0.23303\n",
      "[2]\teval-rmse:0.26278\teval-mae:0.22605\n",
      "[3]\teval-rmse:0.25653\teval-mae:0.21985\n",
      "[4]\teval-rmse:0.25107\teval-mae:0.21427\n",
      "[5]\teval-rmse:0.24646\teval-mae:0.20935\n",
      "[6]\teval-rmse:0.24253\teval-mae:0.20501\n",
      "[7]\teval-rmse:0.23913\teval-mae:0.20114\n",
      "[8]\teval-rmse:0.23604\teval-mae:0.19764\n",
      "[9]\teval-rmse:0.23350\teval-mae:0.19458\n",
      "[10]\teval-rmse:0.23133\teval-mae:0.19189\n",
      "[11]\teval-rmse:0.22939\teval-mae:0.18944\n",
      "[12]\teval-rmse:0.22750\teval-mae:0.18710\n",
      "[13]\teval-rmse:0.22597\teval-mae:0.18517\n",
      "[14]\teval-rmse:0.22421\teval-mae:0.18306\n",
      "[15]\teval-rmse:0.22281\teval-mae:0.18133\n",
      "[16]\teval-rmse:0.22167\teval-mae:0.17983\n",
      "[17]\teval-rmse:0.22054\teval-mae:0.17842\n",
      "[18]\teval-rmse:0.21955\teval-mae:0.17715\n",
      "[19]\teval-rmse:0.21847\teval-mae:0.17593\n",
      "[20]\teval-rmse:0.21752\teval-mae:0.17476\n",
      "[21]\teval-rmse:0.21664\teval-mae:0.17378\n",
      "[22]\teval-rmse:0.21584\teval-mae:0.17283\n",
      "[23]\teval-rmse:0.21501\teval-mae:0.17191\n",
      "[24]\teval-rmse:0.21372\teval-mae:0.17058\n",
      "[25]\teval-rmse:0.21305\teval-mae:0.16981\n",
      "[26]\teval-rmse:0.21194\teval-mae:0.16865\n",
      "[27]\teval-rmse:0.21098\teval-mae:0.16768\n",
      "[28]\teval-rmse:0.21032\teval-mae:0.16692\n",
      "[29]\teval-rmse:0.20991\teval-mae:0.16643\n",
      "[30]\teval-rmse:0.20918\teval-mae:0.16569\n",
      "[31]\teval-rmse:0.20846\teval-mae:0.16497\n",
      "[32]\teval-rmse:0.20758\teval-mae:0.16408\n",
      "[33]\teval-rmse:0.20690\teval-mae:0.16336\n",
      "[34]\teval-rmse:0.20606\teval-mae:0.16251\n",
      "[35]\teval-rmse:0.20569\teval-mae:0.16209\n",
      "[36]\teval-rmse:0.20442\teval-mae:0.16095\n",
      "[37]\teval-rmse:0.20343\teval-mae:0.16003\n",
      "[38]\teval-rmse:0.20250\teval-mae:0.15917\n",
      "[39]\teval-rmse:0.20195\teval-mae:0.15862\n",
      "[40]\teval-rmse:0.20160\teval-mae:0.15827\n",
      "[41]\teval-rmse:0.20114\teval-mae:0.15783\n",
      "[42]\teval-rmse:0.20041\teval-mae:0.15711\n",
      "[43]\teval-rmse:0.19984\teval-mae:0.15659\n",
      "[44]\teval-rmse:0.19950\teval-mae:0.15627\n",
      "[45]\teval-rmse:0.19883\teval-mae:0.15564\n",
      "[46]\teval-rmse:0.19787\teval-mae:0.15475\n",
      "[47]\teval-rmse:0.19734\teval-mae:0.15423\n",
      "[48]\teval-rmse:0.19688\teval-mae:0.15379\n",
      "[49]\teval-rmse:0.19663\teval-mae:0.15348\n",
      "[50]\teval-rmse:0.19602\teval-mae:0.15291\n",
      "[51]\teval-rmse:0.19525\teval-mae:0.15222\n",
      "[52]\teval-rmse:0.19490\teval-mae:0.15186\n",
      "[53]\teval-rmse:0.19447\teval-mae:0.15142\n",
      "[54]\teval-rmse:0.19421\teval-mae:0.15114\n",
      "[55]\teval-rmse:0.19348\teval-mae:0.15046\n",
      "[56]\teval-rmse:0.19297\teval-mae:0.14996\n",
      "[57]\teval-rmse:0.19241\teval-mae:0.14946\n",
      "[58]\teval-rmse:0.19186\teval-mae:0.14889\n",
      "[59]\teval-rmse:0.19138\teval-mae:0.14840\n",
      "[60]\teval-rmse:0.19081\teval-mae:0.14789\n",
      "[61]\teval-rmse:0.19041\teval-mae:0.14745\n",
      "[62]\teval-rmse:0.19005\teval-mae:0.14711\n",
      "[63]\teval-rmse:0.18956\teval-mae:0.14662\n",
      "[64]\teval-rmse:0.18919\teval-mae:0.14621\n",
      "[65]\teval-rmse:0.18886\teval-mae:0.14590\n",
      "[66]\teval-rmse:0.18869\teval-mae:0.14573\n",
      "[67]\teval-rmse:0.18851\teval-mae:0.14553\n",
      "[68]\teval-rmse:0.18820\teval-mae:0.14522\n",
      "[69]\teval-rmse:0.18800\teval-mae:0.14501\n",
      "[70]\teval-rmse:0.18755\teval-mae:0.14461\n",
      "[71]\teval-rmse:0.18709\teval-mae:0.14417\n",
      "[72]\teval-rmse:0.18695\teval-mae:0.14402\n",
      "[73]\teval-rmse:0.18657\teval-mae:0.14367\n",
      "[74]\teval-rmse:0.18640\teval-mae:0.14350\n",
      "[75]\teval-rmse:0.18612\teval-mae:0.14319\n",
      "[76]\teval-rmse:0.18559\teval-mae:0.14271\n",
      "[77]\teval-rmse:0.18515\teval-mae:0.14228\n",
      "[78]\teval-rmse:0.18490\teval-mae:0.14203\n",
      "[79]\teval-rmse:0.18439\teval-mae:0.14157\n",
      "[80]\teval-rmse:0.18404\teval-mae:0.14121\n",
      "[81]\teval-rmse:0.18371\teval-mae:0.14088\n",
      "[82]\teval-rmse:0.18318\teval-mae:0.14033\n",
      "[83]\teval-rmse:0.18278\teval-mae:0.13995\n",
      "[84]\teval-rmse:0.18235\teval-mae:0.13953\n",
      "[85]\teval-rmse:0.18191\teval-mae:0.13912\n",
      "[86]\teval-rmse:0.18150\teval-mae:0.13868\n",
      "[87]\teval-rmse:0.18119\teval-mae:0.13840\n",
      "[88]\teval-rmse:0.18100\teval-mae:0.13820\n",
      "[89]\teval-rmse:0.18071\teval-mae:0.13791\n",
      "[90]\teval-rmse:0.18044\teval-mae:0.13763\n",
      "[91]\teval-rmse:0.18013\teval-mae:0.13731\n",
      "[92]\teval-rmse:0.17983\teval-mae:0.13700\n",
      "[93]\teval-rmse:0.17952\teval-mae:0.13670\n",
      "[94]\teval-rmse:0.17921\teval-mae:0.13641\n",
      "[95]\teval-rmse:0.17878\teval-mae:0.13601\n",
      "[96]\teval-rmse:0.17835\teval-mae:0.13562\n",
      "[97]\teval-rmse:0.17813\teval-mae:0.13541\n",
      "[98]\teval-rmse:0.17778\teval-mae:0.13509\n",
      "[99]\teval-rmse:0.17764\teval-mae:0.13494\n",
      "Execution time: 2.8256163597106934\n"
     ]
    }
   ],
   "source": [
    "# Train the Model\n",
    "num_rounds = 100  # number of boosting rounds\n",
    "start_time = time.time()\n",
    "model = xgb.train(params, dtrain, num_rounds, evals=[(dtest, \"eval\")], early_stopping_rounds=10)\n",
    "end_time = time.time()\n",
    "execution_time = end_time - start_time\n",
    "print(\"Execution time:\", execution_time)"
   ]
  },
  {
   "cell_type": "code",
   "execution_count": 39,
   "id": "95ed54fb",
   "metadata": {},
   "outputs": [],
   "source": [
    "# Make Predictions\n",
    "y_pred = model.predict(dtest)"
   ]
  },
  {
   "cell_type": "code",
   "execution_count": 40,
   "id": "19f6054a",
   "metadata": {},
   "outputs": [],
   "source": [
    "# Evaluate the Model\n",
    "mse = mean_squared_error(y_test, y_pred)\n",
    "r2 = r2_score(y_test, y_pred)"
   ]
  },
  {
   "cell_type": "code",
   "execution_count": 41,
   "id": "b94b47dd",
   "metadata": {},
   "outputs": [
    {
     "name": "stdout",
     "output_type": "stream",
     "text": [
      "Mean Squared Error: 0.031557103440\n",
      "r2: 0.621579516947\n"
     ]
    }
   ],
   "source": [
    "print(f\"Mean Squared Error: {mse:.12f}\")\n",
    "print(f\"r2: {r2:.12f}\")"
   ]
  },
  {
   "cell_type": "code",
   "execution_count": 42,
   "id": "18fa46a0",
   "metadata": {},
   "outputs": [
    {
     "data": {
      "text/plain": [
       "<AxesSubplot:title={'center':'Feature importance'}, xlabel='F score', ylabel='Features'>"
      ]
     },
     "execution_count": 42,
     "metadata": {},
     "output_type": "execute_result"
    },
    {
     "data": {
      "image/png": "[encoded data removed]",
      "text/plain": [
       "<Figure size 432x288 with 1 Axes>"
      ]
     },
     "metadata": {
      "needs_background": "light"
     },
     "output_type": "display_data"
    }
   ],
   "source": [
    "xgb.plot_importance(model)"
   ]
  },
  {
   "cell_type": "markdown",
   "id": "cbccaa1d-84a8-460d-8e30-5fdef7382e21",
   "metadata": {},
   "source": [
    "#### Hyper-parameter for Multi-Layer Perception"
   ]
  },
  {
   "cell_type": "code",
   "execution_count": 22,
   "id": "fc41d10b-3f07-453b-b4fa-08f69497c12f",
   "metadata": {},
   "outputs": [],
   "source": [
    "from sklearn.neural_network import MLPRegressor"
   ]
  },
  {
   "cell_type": "code",
   "execution_count": 23,
   "id": "4af08674-9784-42aa-8de3-7062cd5e5810",
   "metadata": {},
   "outputs": [],
   "source": [
    "mlp = MLPRegressor()\n",
    "param_grid = {\n",
    "    'hidden_layer_sizes': [(50,), (100,), (50, 50), (100, 50)],\n",
    "    'learning_rate_init': [0.001, 0.01, 0.1],\n",
    "    'max_iter': [100, 200, 300]\n",
    "}"
   ]
  },
  {
   "cell_type": "code",
   "execution_count": 25,
   "id": "3d19d681-8698-470d-8a35-291d93c2841c",
   "metadata": {},
   "outputs": [
    {
     "name": "stdout",
     "output_type": "stream",
     "text": [
      "Best Parameters: {'hidden_layer_sizes': (100, 50), 'learning_rate_init': 0.001, 'max_iter': 300}\n",
      "Best Score: 0.3365064427964829\n"
     ]
    }
   ],
   "source": [
    "grid_search = GridSearchCV(estimator=mlp, param_grid=param_grid, cv=5, scoring='r2', n_jobs=-1)\n",
    "grid_search.fit(X_train_sample, y_train_sample)\n",
    "\n",
    "# output the best parameter\n",
    "print(\"Best Parameters:\", grid_search.best_params_)\n",
    "print(\"Best Score:\", grid_search.best_score_)"
   ]
  },
  {
   "cell_type": "code",
   "execution_count": 29,
   "id": "60b210e1-b87d-4a92-8f57-6f3e3c2ec7a9",
   "metadata": {},
   "outputs": [
    {
     "name": "stdout",
     "output_type": "stream",
     "text": [
      "Execution time: 94.92619824409485\n"
     ]
    }
   ],
   "source": [
    "# Create and train the MLPRegressor model\n",
    "start_time = time.time()\n",
    "mlp = MLPRegressor(hidden_layer_sizes=(100,50), activation='relu', max_iter=300,learning_rate_init=0.001)\n",
    "mlp.fit(X_train, y_train)\n",
    "end_time = time.time()\n",
    "execution_time = end_time - start_time\n",
    "print(\"Execution time:\", execution_time)"
   ]
  },
  {
   "cell_type": "code",
   "execution_count": 30,
   "id": "91625306-a04b-44dd-b7ad-00d676bed702",
   "metadata": {},
   "outputs": [],
   "source": [
    "# Make predictions on the test set\n",
    "y_pred = mlp.predict(X_test)"
   ]
  },
  {
   "cell_type": "code",
   "execution_count": 31,
   "id": "6902066b-e494-4eb8-b7b0-a429bc0af426",
   "metadata": {},
   "outputs": [
    {
     "name": "stdout",
     "output_type": "stream",
     "text": [
      "Mean Squared Error on Original Scale: 0.039761338335502855\n",
      "r2: 0.5231975302025542\n"
     ]
    }
   ],
   "source": [
    "# Evaluate the model using mean squared error on the original scale\n",
    "mse = mean_squared_error(y_test, y_pred)\n",
    "r2 = r2_score(y_test,y_pred)\n",
    "print(f\"Mean Squared Error on Original Scale: {mse}\")\n",
    "print(f\"r2: {r2}\")"
   ]
  },
  {
   "cell_type": "code",
   "execution_count": 32,
   "id": "d8b55002-66b0-4e5d-807f-9b2da47d4d65",
   "metadata": {},
   "outputs": [
    {
     "name": "stdout",
     "output_type": "stream",
     "text": [
      "[0.24691598 0.30146438 0.1175737  0.19325145 0.3350149  0.03309828\n",
      " 0.33250167 0.93097117 0.37247284 0.24662284 0.06746247 0.06479753\n",
      " 0.06973678 0.06187416 0.02176917 0.02350466 0.02550577 0.0159296 ]\n"
     ]
    }
   ],
   "source": [
    "from sklearn.inspection import permutation_importance\n",
    "\n",
    "result = permutation_importance(mlp, X_test, y_test, n_repeats=30, random_state=0)\n",
    "\n",
    "print(result.importances_mean)"
   ]
  },
  {
   "cell_type": "code",
   "execution_count": null,
   "id": "f37a3a70-08ac-420c-9ff8-e22203312a14",
   "metadata": {},
   "outputs": [],
   "source": []
  }
 ],
 "metadata": {
  "kernelspec": {
   "display_name": "Python 3 (ipykernel)",
   "language": "python",
   "name": "python3"
  },
  "language_info": {
   "codemirror_mode": {
    "name": "ipython",
    "version": 3
   },
   "file_extension": ".py",
   "mimetype": "text/x-python",
   "name": "python",
   "nbconvert_exporter": "python",
   "pygments_lexer": "ipython3",
   "version": "3.9.13"
  }
 },
 "nbformat": 4,
 "nbformat_minor": 5
}
